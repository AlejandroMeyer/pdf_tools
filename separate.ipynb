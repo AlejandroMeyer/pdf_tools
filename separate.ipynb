{
 "cells": [
  {
   "cell_type": "code",
   "execution_count": 1,
   "metadata": {},
   "outputs": [],
   "source": [
    "import PyPDF2\n",
    "import os"
   ]
  },
  {
   "cell_type": "code",
   "execution_count": 2,
   "metadata": {},
   "outputs": [
    {
     "name": "stdout",
     "output_type": "stream",
     "text": [
      "Pages 2 to 4 have been extracted to the file extracted_file.pdf\n"
     ]
    }
   ],
   "source": [
    "def extract_pages(input_pdf, output_pdf_base, page_range):\n",
    "    \"\"\"\n",
    "    Extracts a range of pages from a PDF file and saves them to a new PDF file.\n",
    "\n",
    "    Parameters:\n",
    "        input_pdf (str): The name of the input PDF file (without extension).\n",
    "        output_pdf_base (str): The base name for the output PDF file (without extension).\n",
    "        page_range (str): The range of pages to extract in the format 'start-end'.\n",
    "\n",
    "    Returns:\n",
    "        None: Prints messages indicating the result of the extraction.\n",
    "\n",
    "    Raises:\n",
    "        ValueError: If the page_range format is invalid.\n",
    "\n",
    "    Usage:\n",
    "        extract_pages(\"input_file\", \"output_file\", \"3-6\")\n",
    "    \"\"\"\n",
    "    try:\n",
    "        start, end = map(int, page_range.split('-'))\n",
    "    except ValueError:\n",
    "        print(\"Error: Invalid page range format. Use the format 'start-end'.\")\n",
    "        return\n",
    "\n",
    "    counter = 0\n",
    "    output_name = output_pdf_base\n",
    "\n",
    "    # Check if the file with the current name already exists\n",
    "    while os.path.exists(f\"{output_name}.pdf\"):\n",
    "        counter += 1\n",
    "        output_name = f\"{output_pdf_base} ({counter})\"\n",
    "\n",
    "    with open(f\"{input_pdf}.pdf\", 'rb') as input_file:\n",
    "        pdf_reader = PyPDF2.PdfReader(input_file)\n",
    "        num_pages = len(pdf_reader.pages)\n",
    "\n",
    "        # Validate the page range\n",
    "        if start < 1 or end > num_pages or start > end:\n",
    "            print(f\"Error: Invalid page range. It should be between 1 and {num_pages}, and start should be less than or equal to end.\")\n",
    "            return\n",
    "\n",
    "        pdf_writer = PyPDF2.PdfWriter()\n",
    "\n",
    "        # Extract pages and add them to the writer\n",
    "        for page_num in range(start - 1, end):\n",
    "            page = pdf_reader.pages[page_num]\n",
    "            pdf_writer.add_page(page)\n",
    "\n",
    "        # Write the extracted pages to a new file\n",
    "        with open(f\"{output_name}.pdf\", 'wb') as output_file:\n",
    "            pdf_writer.write(output_file)\n",
    "\n",
    "        print(f\"Pages {start} to {end} have been extracted to the file {output_name}.pdf\")\n",
    "\n",
    "if __name__ == \"__main__\":\n",
    "    input_pdf_name = input(\"Enter the name of the PDF file (without extension): \")\n",
    "    page_range_input = input(\"Enter the page range you want to extract (e.g., 7-10): \")\n",
    "    output_pdf_base_name = \"extracted_file\"\n",
    "\n",
    "    extract_pages(input_pdf_name, output_pdf_base_name, page_range_input)\n"
   ]
  }
 ],
 "metadata": {
  "kernelspec": {
   "display_name": "Python 3",
   "language": "python",
   "name": "python3"
  },
  "language_info": {
   "codemirror_mode": {
    "name": "ipython",
    "version": 3
   },
   "file_extension": ".py",
   "mimetype": "text/x-python",
   "name": "python",
   "nbconvert_exporter": "python",
   "pygments_lexer": "ipython3",
   "version": "3.11.9"
  }
 },
 "nbformat": 4,
 "nbformat_minor": 2
}
