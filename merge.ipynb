{
 "cells": [
  {
   "cell_type": "code",
   "execution_count": 1,
   "metadata": {},
   "outputs": [],
   "source": [
    "import PyPDF2"
   ]
  },
  {
   "cell_type": "code",
   "execution_count": 2,
   "metadata": {},
   "outputs": [],
   "source": [
    "user_data = input(\"Enter file names separated by commas (without extension): \")\n",
    "\n",
    "list_words = user_data.split(',')\n",
    "list_words = [word.strip() + \".pdf\" for word in list_words]\n",
    "\n",
    "files = list_words\n",
    "final_name = \"final_file.pdf\"\n",
    "\n",
    "final_pdf = PyPDF2.PdfMerger()\n",
    "\n",
    "for name_file in files:\n",
    "    try:\n",
    "        final_pdf.append(name_file)\n",
    "    except FileNotFoundError:\n",
    "        print(f\"The file {name_file} not found.\")\n",
    "\n",
    "try:\n",
    "    final_pdf.write(final_name)\n",
    "    final_pdf.close()\n",
    "except:\n",
    "    print(\"An error occurred while writing the final file or closing the PDF merge.\")\n",
    "\n",
    "\n"
   ]
  }
 ],
 "metadata": {
  "kernelspec": {
   "display_name": "Python 3",
   "language": "python",
   "name": "python3"
  },
  "language_info": {
   "codemirror_mode": {
    "name": "ipython",
    "version": 3
   },
   "file_extension": ".py",
   "mimetype": "text/x-python",
   "name": "python",
   "nbconvert_exporter": "python",
   "pygments_lexer": "ipython3",
   "version": "3.11.9"
  }
 },
 "nbformat": 4,
 "nbformat_minor": 2
}
